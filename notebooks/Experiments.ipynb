{
 "cells": [
  {
   "cell_type": "markdown",
   "id": "45edc5a9-063f-48d6-b798-c6077829fb57",
   "metadata": {
    "tags": []
   },
   "source": [
    "# Training"
   ]
  },
  {
   "cell_type": "code",
   "execution_count": 1,
   "id": "5fb12eb8-eacf-408b-a532-f51234a0497d",
   "metadata": {
    "tags": []
   },
   "outputs": [],
   "source": [
    "import os\n",
    "import os.path as osp\n",
    "from IPython.display import clear_output\n",
    "\n",
    "import sklearn\n",
    "import pandas as pd\n",
    "import torch\n",
    "import clip\n",
    "import torch.nn as nn\n",
    "import numpy as np\n",
    "import matplotlib.pyplot as plt\n",
    "import plotly.express as px\n",
    "import seaborn as sns\n",
    "from PIL import Image\n",
    "\n",
    "from emotionpredictor.training import Trainer, SLP\n",
    "from emotionpredictor.data_tools import get_loaders\n",
    "import emotionpredictor.data_tools as dt\n",
    "\n",
    "%config InlineBackend.figure_format ='retina'"
   ]
  },
  {
   "cell_type": "code",
   "execution_count": 2,
   "id": "73ecd2c9-145f-4239-8f3b-9c9878cd94b5",
   "metadata": {},
   "outputs": [],
   "source": [
    "wikiart_embeddings_path = \"../_data/wikiart_embeddings/\"\n",
    "clip_embedding_path = osp.join(wikiart_embeddings_path, \"clip\")\n",
    "imagenet_embedding_path =  osp.join(wikiart_embeddings_path, \"imagenet\")\n",
    "checkpoint_path = \"../neural_checkpoints/\"\n",
    "results_path = \"../results\""
   ]
  },
  {
   "cell_type": "code",
   "execution_count": 3,
   "id": "421818fb-0afa-4250-a7f8-7842c401ff6b",
   "metadata": {},
   "outputs": [],
   "source": [
    "ARTEMIS_EMOTIONS = ['amusement',\n",
    " 'awe',\n",
    " 'contentment',\n",
    " 'excitement',\n",
    " 'anger',\n",
    " 'disgust',\n",
    " 'fear',\n",
    " 'sadness',\n",
    " 'something else']"
   ]
  },
  {
   "cell_type": "code",
   "execution_count": 4,
   "id": "9c0b7aca-9839-48af-a8af-0440f1c87ab7",
   "metadata": {},
   "outputs": [],
   "source": [
    "device = \"cuda\" if torch.cuda.is_available() else \"cpu\""
   ]
  },
  {
   "cell_type": "code",
   "execution_count": 5,
   "id": "98bc66ab-41d3-476e-8592-5494478f6fd3",
   "metadata": {},
   "outputs": [],
   "source": [
    "reports = {}"
   ]
  },
  {
   "cell_type": "code",
   "execution_count": 6,
   "id": "ba1c6a44-3349-4137-a77e-998245595bc1",
   "metadata": {},
   "outputs": [],
   "source": [
    "save_figs = False \n",
    "save_networks = True\n",
    "save_results = True"
   ]
  },
  {
   "cell_type": "markdown",
   "id": "da6b4ed6-585d-49f2-b413-ffdbc3e4a96b",
   "metadata": {},
   "source": [
    "\n",
    "    "
   ]
  },
  {
   "cell_type": "markdown",
   "id": "0ba240b1-7244-4c61-971a-10235c605831",
   "metadata": {
    "tags": []
   },
   "source": [
    "\n",
    "## Zero shot clip"
   ]
  },
  {
   "cell_type": "code",
   "execution_count": 1133,
   "id": "d833b9eb-6dfc-48db-b42b-5c8da5287701",
   "metadata": {},
   "outputs": [],
   "source": [
    "emotions = [\"A picutre making me feel \" + emotion for emotion in ARTEMIS_EMOTIONS]\n",
    "tokens = clip.tokenize(emotions).to(device)"
   ]
  },
  {
   "cell_type": "code",
   "execution_count": 1134,
   "id": "4b336636-a804-4d2d-8e2e-76647c5f7dcb",
   "metadata": {},
   "outputs": [],
   "source": [
    "# We take RN50x16 as it is the best performing one \n",
    "model_zero_shot, _ = clip.load(\"RN50x16\")"
   ]
  },
  {
   "cell_type": "code",
   "execution_count": 1135,
   "id": "74c64f49-3c7b-4f75-a490-6e97fc935a09",
   "metadata": {},
   "outputs": [],
   "source": [
    "image_features = dt.Pickle_data_loader(\"../data/wikiart_embeddings/clip_training/RN50x16/test/\")"
   ]
  },
  {
   "cell_type": "code",
   "execution_count": 1136,
   "id": "21e69c42-54e6-4006-8b5f-434efdd87408",
   "metadata": {},
   "outputs": [
    {
     "name": "stderr",
     "output_type": "stream",
     "text": [
      "199it [00:06, 32.52it/s]\n"
     ]
    }
   ],
   "source": [
    "imgs = torch.tensor([]).to(device)\n",
    "from tqdm import tqdm\n",
    "for x in tqdm(image_features) :\n",
    "    imgs = torch.cat([imgs, x[\"image\"]])\n"
   ]
  },
  {
   "cell_type": "code",
   "execution_count": 1137,
   "id": "5fb3c4b4-0275-49c4-9ba9-4989b3a121f7",
   "metadata": {},
   "outputs": [
    {
     "data": {
      "text/plain": [
       "torch.Size([7933, 9])"
      ]
     },
     "execution_count": 1137,
     "metadata": {},
     "output_type": "execute_result"
    }
   ],
   "source": [
    "labels = torch.tensor([])\n",
    "with torch.no_grad():\n",
    "    for x in image_features :\n",
    "        labels = torch.cat([labels, x[\"label\"]])\n",
    "labels.shape"
   ]
  },
  {
   "cell_type": "code",
   "execution_count": 1138,
   "id": "f4709fcb-d1ec-415a-b9db-50c4bf355745",
   "metadata": {},
   "outputs": [],
   "source": [
    "with torch.no_grad():\n",
    "    text_features = model_zero_shot.encode_text(tokens)\n",
    "    text_features = text_features.to(device)    "
   ]
  },
  {
   "cell_type": "code",
   "execution_count": 1139,
   "id": "5cf4c6ed-4343-47e2-b7b2-a35c1f54a90f",
   "metadata": {},
   "outputs": [],
   "source": [
    "imgs /= imgs.norm(dim=-1, keepdim=True)\n",
    "text_features /= text_features.norm(dim=-1, keepdim=True)\n",
    "similarity = (100.0 * imgs.float() @ text_features.T.float()).softmax(dim=-1)\n"
   ]
  },
  {
   "cell_type": "code",
   "execution_count": 1037,
   "id": "787d8191-8bde-4e27-bea4-4252b0a2d909",
   "metadata": {},
   "outputs": [],
   "source": [
    "metrics = ct.compute_metrics_for_threshold(similarity.detach().cpu().numpy(),\n",
    "                                 labels.detach().cpu().numpy(),\n",
    "                                 confusion_labels=ARTEMIS_EMOTIONS,\n",
    "                                 agreement_threshold=0.501)\n",
    "if save : \n",
    "    path = \"../results/clip_training/zero_shot\"\n",
    "    if not osp.exists(path) : os.mkdir(path)\n",
    "    ct.export_results(metrics, path)"
   ]
  },
  {
   "cell_type": "code",
   "execution_count": 1239,
   "id": "da74cc14-aefa-4550-8980-3ed58f1d6780",
   "metadata": {},
   "outputs": [],
   "source": [
    "report = evaluation.Report(results, labels.numpy(), ARTEMIS_EMOTIONS, 0.5)"
   ]
  },
  {
   "cell_type": "code",
   "execution_count": 1338,
   "id": "40ab7d7d-5f04-4d0a-9e95-d78604e51eac",
   "metadata": {},
   "outputs": [],
   "source": [
    "reports[\"zero_shot\"] = report "
   ]
  },
  {
   "cell_type": "markdown",
   "id": "0b639798-c8d2-483f-8fd1-b58f7d25209a",
   "metadata": {
    "tags": []
   },
   "source": [
    "# Training"
   ]
  },
  {
   "cell_type": "markdown",
   "id": "d7290797-05b8-406a-a23b-6c8d137dad12",
   "metadata": {
    "jp-MarkdownHeadingCollapsed": true,
    "tags": []
   },
   "source": [
    "\n",
    "\n",
    "## Train a layer for every clip architecture and imagenet "
   ]
  },
  {
   "cell_type": "code",
   "execution_count": 1028,
   "id": "5158bd15-f87c-4fb9-b146-131a3c888b4f",
   "metadata": {},
   "outputs": [
    {
     "data": {
      "text/plain": [
       "['RN50', 'RN101', 'RN50x4', 'RN50x16', 'ViT-B/32', 'ViT-B/16']"
      ]
     },
     "execution_count": 1028,
     "metadata": {},
     "output_type": "execute_result"
    }
   ],
   "source": [
    "clip.available_models()"
   ]
  },
  {
   "cell_type": "code",
   "execution_count": null,
   "id": "ae95ec6b-54f4-47bb-8463-0225f968eaef",
   "metadata": {},
   "outputs": [],
   "source": [
    "def recreate_dir(path, new_path, ignore = None):\n",
    "    ignore = ignore if ignore is not None else []\n",
    "    for directory in os.listdir(path):\n",
    "        if osp.isdir(osp.join(path, directory)):\n",
    "            if directory is not None:\n",
    "                if directory in ignore: \n",
    "                    continue\n",
    "            os.mkdir(osp.join(new_path,directory))\n",
    "            recreate_dir(osp.join(path,directory), osp.join(new_path,directory), ignore)\n",
    "             \n",
    "recreate_dir(wikiart_embeddings_path, \"test\", ignore = [\"test\", \"rest\", \"val\", \"train\"])"
   ]
  },
  {
   "cell_type": "code",
   "execution_count": 8,
   "id": "afc1bf5d-afa4-4483-8a55-8ffe1e56cbad",
   "metadata": {},
   "outputs": [],
   "source": [
    "def train_on_dataset(path):\n",
    "    \"\"\"Fix the parameters for the training on the ArtEmis features\"\"\"\n",
    "    loaders = get_loaders(path)\n",
    "    input_shape = (loaders[\"train\"].load_batch(0))[\"image\"].shape[1]\n",
    "    return Trainer(model = SLP(input_size = input_shape, output_size=9).to(device),\n",
    "                        loss_fn = nn.BCEWithLogitsLoss(),\n",
    "                        optimizer_fn = torch.optim.Adam,\n",
    "                        lr = 10**-2,\n",
    "                        data_loaders = loaders,\n",
    "                        device = device)"
   ]
  },
  {
   "cell_type": "code",
   "execution_count": 9,
   "id": "2dd44272-6bed-4510-b4f7-b9ab31f7cef9",
   "metadata": {},
   "outputs": [],
   "source": [
    "data_path = \"../_data\"\n",
    "wikiart_embeddings_path = osp.join(data_path, \"wikiart_embeddings\")\n",
    "clip_embedding_path = osp.join(wikiart_embeddings_path, \"clip\")\n",
    "imagenet_embedding_path = osp.join(wikiart_embeddings_path, \"imagenet\")\n",
    "checkpoint_path = \"../neural_checkpoints/\"\n",
    "\n",
    "models = {}\n",
    "for name in ['RN50', 'RN101', 'RN50x4', 'RN50x16', 'ViT-B32', 'ViT-B16']:\n",
    "    path = osp.join(clip_embedding_path, name)\n",
    "    if not osp.exists(path):\n",
    "        print(f\"embeddings for {name} not found, please extract them before proceeding\")\n",
    "    name = \"C-\" + name #clip indicator\n",
    "    models[name] = train_on_dataset(path)\n",
    "    if name in os.listdir(checkpoint_path):\n",
    "        models[name].model.load_state_dict(torch.load(osp.join(checkpoint_path, name)))\n",
    "    \n",
    "for name in [\"alexnet\", \"resnet50\"]:\n",
    "    path = osp.join(imagenet_embedding_path, name)\n",
    "    if not osp.exists(path):\n",
    "        print(f\"embeddings for {name} not found, please extract them before proceeding\")\n",
    "    name = \"I-\" + name #imagenet indicator\n",
    "    models[name] = train_on_dataset(path)\n",
    "    if name in os.listdir(checkpoint_path):\n",
    "        models[name].model.load_state_dict(torch.load(osp.join(checkpoint_path,name)))\n",
    "                                           \n"
   ]
  },
  {
   "cell_type": "code",
   "execution_count": null,
   "id": "82960bb0-5884-4a19-9061-3828f2938dd9",
   "metadata": {},
   "outputs": [],
   "source": [
    "for model in models.values() :\n",
    "    model.test_network()\n"
   ]
  },
  {
   "cell_type": "code",
   "execution_count": 1390,
   "id": "7f1c1ecd-df8c-4e79-b117-ca25a74d66bf",
   "metadata": {},
   "outputs": [],
   "source": [
    "lrs = 10.**np.arange(-2, -6, -1)\n",
    "for model in models.values() : \n",
    "    model.train_eval(4, lrs = lrs)\n",
    "    clear_output()"
   ]
  },
  {
   "cell_type": "code",
   "execution_count": null,
   "id": "41771d29-85e2-4ce2-beda-23dacfff5c5f",
   "metadata": {},
   "outputs": [],
   "source": [
    "for key, slp in slps.items() :\n",
    "    ct.create_report(slp, ARTEMIS_EMOTIONS, False, show_fig=True, agreement_threshold=0.501)\n",
    "    export_results(slp.get_last_metrics(), osp.join(\"../results/clip_training/\",key))"
   ]
  },
  {
   "cell_type": "code",
   "execution_count": 1393,
   "id": "f02ee26d-c475-4d98-9b4a-ab5cccd4f634",
   "metadata": {},
   "outputs": [
    {
     "data": {
      "application/vnd.jupyter.widget-view+json": {
       "model_id": "c6effdcdc4254804bbd8a966a8bfc8f4",
       "version_major": 2,
       "version_minor": 0
      },
      "text/plain": [
       "interactive(children=(Text(value='train', description='train_val'), Output()), _dom_classes=('widget-interact'…"
      ]
     },
     "metadata": {},
     "output_type": "display_data"
    }
   ],
   "source": [
    "from ipywidgets import interact\n",
    "\n",
    "@interact(options = [\"train\", \"validation\"])\n",
    "def losses(train_val = \"train\"):\n",
    "    if train_val == \"train\":\n",
    "        plot_data = [pd.Series(model.epoch_losses, name=name) for name, model in models.items()]\n",
    "    else :\n",
    "        plot_data = [pd.Series(model.validation_losses, name=name) for name, model in models.items()]\n",
    "    x = pd.DataFrame(plot_data)\n",
    "    fig = px.line(x.T)\n",
    "    return fig\n",
    "    "
   ]
  },
  {
   "cell_type": "code",
   "execution_count": 1431,
   "id": "34573dc5-0c54-4d8a-8e83-2cdb3ca1435f",
   "metadata": {},
   "outputs": [],
   "source": [
    "if save_networks :\n",
    "    for name, model in models.items() :\n",
    "        PATH = osp.join(checkpoint_path, name)\n",
    "        model.save_model(PATH)"
   ]
  },
  {
   "cell_type": "code",
   "execution_count": null,
   "id": "e0ebe7e3-a163-4262-a762-0f685430fc43",
   "metadata": {},
   "outputs": [
    {
     "data": {
      "application/vnd.jupyter.widget-view+json": {
       "model_id": "5b3f170ccb514a559c51c4c2e7e2b78c",
       "version_major": 2,
       "version_minor": 0
      },
      "text/plain": [
       "0it [00:00, ?it/s]"
      ]
     },
     "metadata": {},
     "output_type": "display_data"
    },
    {
     "data": {
      "application/vnd.jupyter.widget-view+json": {
       "model_id": "78afdc74e3c149d8a4a5c907a9c06cda",
       "version_major": 2,
       "version_minor": 0
      },
      "text/plain": [
       "0it [00:00, ?it/s]"
      ]
     },
     "metadata": {},
     "output_type": "display_data"
    },
    {
     "data": {
      "application/vnd.jupyter.widget-view+json": {
       "model_id": "1a6d10ac6ce349afbd2808f4951fa9ee",
       "version_major": 2,
       "version_minor": 0
      },
      "text/plain": [
       "0it [00:00, ?it/s]"
      ]
     },
     "metadata": {},
     "output_type": "display_data"
    },
    {
     "data": {
      "application/vnd.jupyter.widget-view+json": {
       "model_id": "8f1ab03b66ff44048c860f62643b62d8",
       "version_major": 2,
       "version_minor": 0
      },
      "text/plain": [
       "0it [00:00, ?it/s]"
      ]
     },
     "metadata": {},
     "output_type": "display_data"
    },
    {
     "data": {
      "application/vnd.jupyter.widget-view+json": {
       "model_id": "c4f414744ab74390a316033349417dc8",
       "version_major": 2,
       "version_minor": 0
      },
      "text/plain": [
       "0it [00:00, ?it/s]"
      ]
     },
     "metadata": {},
     "output_type": "display_data"
    },
    {
     "data": {
      "application/vnd.jupyter.widget-view+json": {
       "model_id": "a2b4d976f1a8474cafa952a9bec73ca4",
       "version_major": 2,
       "version_minor": 0
      },
      "text/plain": [
       "0it [00:00, ?it/s]"
      ]
     },
     "metadata": {},
     "output_type": "display_data"
    },
    {
     "data": {
      "application/vnd.jupyter.widget-view+json": {
       "model_id": "2bde03d96ad2425d99c88a6a3f98f4c4",
       "version_major": 2,
       "version_minor": 0
      },
      "text/plain": [
       "0it [00:00, ?it/s]"
      ]
     },
     "metadata": {},
     "output_type": "display_data"
    },
    {
     "data": {
      "application/vnd.jupyter.widget-view+json": {
       "model_id": "3330ec070b5c447ab5ca917fb6372213",
       "version_major": 2,
       "version_minor": 0
      },
      "text/plain": [
       "0it [00:00, ?it/s]"
      ]
     },
     "metadata": {},
     "output_type": "display_data"
    }
   ],
   "source": [
    "if save_results :\n",
    "    test_results_path = osp.join(results_path, \"test_results\")\n",
    "    if not osp.exists(test_results_path) : os.mkdir(test_results_path)\n",
    "    for name, model in models.items() :\n",
    "        model.create_report(ARTEMIS_EMOTIONS, show_fig = False)\n",
    "        path = osp.join(test_results_path,name)\n",
    "        if not osp.exists(path): os.mkdir(path)\n",
    "        model.save_labels_results(path)"
   ]
  },
  {
   "cell_type": "markdown",
   "id": "3df45a4a-5e22-430e-8b5f-605f62aa664a",
   "metadata": {
    "jp-MarkdownHeadingCollapsed": true,
    "tags": []
   },
   "source": [
    "## Binary classification"
   ]
  },
  {
   "cell_type": "markdown",
   "id": "f162f1ba-e76b-4fe4-ae58-22a23950efb8",
   "metadata": {
    "tags": []
   },
   "source": [
    "For classifying the emotions as positive or negative we follow the documentation of artemis and put <b>something</b> else as a separate class."
   ]
  },
  {
   "cell_type": "code",
   "execution_count": 1328,
   "id": "721f7b77-c15b-4e34-92af-a96d5efdf52e",
   "metadata": {},
   "outputs": [],
   "source": [
    "import torch.nn.functional as F\n",
    "import copy\n"
   ]
  },
  {
   "cell_type": "code",
   "execution_count": 1329,
   "id": "dd29c799-25c4-4f17-8e96-7ea6e9614e07",
   "metadata": {},
   "outputs": [
    {
     "name": "stdout",
     "output_type": "stream",
     "text": [
      "List of postive emotions : ['amusement', 'awe', 'contentment', 'excitement']\n",
      "List of negative emotions : ['anger', 'disgust', 'fear', 'sadness']\n",
      "Non positive or negative emotion : something else\n"
     ]
    }
   ],
   "source": [
    "# Positive affect : \n",
    "positive_emotions = ARTEMIS_EMOTIONS[:4]\n",
    "print(f\"List of postive emotions : {positive_emotions}\")\n",
    "\n",
    "negative_emotions = ARTEMIS_EMOTIONS[4:8]\n",
    "print(f\"List of negative emotions : {negative_emotions}\")\n",
    "\n",
    "something_else = ARTEMIS_EMOTIONS[-1]\n",
    "print(f\"Non positive or negative emotion : {something_else}\")\n",
    "\n",
    "POSITIVE_MASK = torch.tensor(np.isin(ARTEMIS_EMOTIONS, positive_emotions))\n",
    "NEGATIVE_MASK = torch.tensor(np.isin(ARTEMIS_EMOTIONS, negative_emotions))\n",
    "SOMETHING_ELSE_MASK = torch.tensor(np.isin(ARTEMIS_EMOTIONS, something_else))\n",
    "\n",
    "def positive_negative_binaring():\n",
    "    def batch_binaring(batch):\n",
    "        pos_sum = batch[\"label\"][:,POSITIVE_MASK].sum(1)\n",
    "        neg_sum = batch[\"label\"][:,NEGATIVE_MASK].sum(1)\n",
    "        sth_else_sum = batch[\"label\"][:,SOMETHING_ELSE_MASK].sum(1)\n",
    "        #one_hot_emotion = F.one_hot(torch.tensor(list(zip(pos_sum,neg_sum, sth_else_sum))).argmax(1),3)\n",
    "        batch[\"label\"] = torch.hstack([pos_sum.unsqueeze(1),\n",
    "                                       neg_sum.unsqueeze(1),\n",
    "                                       sth_else_sum.unsqueeze(1)])\n",
    "        return batch\n",
    "    return batch_binaring\n",
    "\n",
    "def float_my_batch(batch):\n",
    "    batch[\"label\"] = batch[\"label\"].float()\n",
    "    return batch\n",
    "\n"
   ]
  },
  {
   "cell_type": "code",
   "execution_count": 1330,
   "id": "427aae42-ae5a-4a32-80d3-9f93507c021d",
   "metadata": {},
   "outputs": [
    {
     "data": {
      "text/plain": [
       "<module 'training' from '/scratch/students/2021-fall-mt-rszymcza/code/training.py'>"
      ]
     },
     "execution_count": 1330,
     "metadata": {},
     "output_type": "execute_result"
    }
   ],
   "source": [
    "del Trainer\n",
    "from training import Trainer\n",
    "imp.reload(training)\n"
   ]
  },
  {
   "cell_type": "code",
   "execution_count": 1331,
   "id": "3fcac592-b5e9-43d0-9107-f49711776606",
   "metadata": {},
   "outputs": [],
   "source": [
    "learning_rate = 10**-2\n",
    "loaders = dt.get_loaders(path = \"../data/wikiart_embeddings/clip_training/RN50x16/\",\n",
    "                     transformations=[positive_negative_binaring(), float_my_batch])\n",
    "\n",
    "binary_classifier = Trainer(model=SLP(input_size=768,output_size=3),\n",
    "                                        loss_fn = nn.BCEWithLogitsLoss(pos_weight=torch.tensor([1,1,1]).to(device)),\n",
    "                                        data_loaders= loaders,\n",
    "                                        optimizer_fn = torch.optim.Adam,\n",
    "                                         lr = learning_rate,\n",
    "                                        device=device)\n",
    "\n",
    "binary_classifier.class_labels = [\"positive\", \"negative\", \"somthing_else\"]"
   ]
  },
  {
   "cell_type": "code",
   "execution_count": 1332,
   "id": "bffb691b-8f3f-4004-8f1b-38bb16f6f9bc",
   "metadata": {},
   "outputs": [
    {
     "name": "stdout",
     "output_type": "stream",
     "text": [
      "Your model is running correctly. Rejoice ! :-)\n"
     ]
    }
   ],
   "source": [
    "binary_classifier.test_network()"
   ]
  },
  {
   "cell_type": "code",
   "execution_count": 1339,
   "id": "1a970855-6c30-4ff7-a5d7-b7d7d98825dd",
   "metadata": {},
   "outputs": [
    {
     "data": {
      "application/vnd.plotly.v1+json": {
       "config": {
        "plotlyServerURL": "https://plot.ly"
       },
       "data": [],
       "layout": {
        "autosize": true,
        "legend": {
         "tracegroupgap": 0
        },
        "margin": {
         "t": 60
        },
        "template": {
         "data": {
          "bar": [
           {
            "error_x": {
             "color": "#2a3f5f"
            },
            "error_y": {
             "color": "#2a3f5f"
            },
            "marker": {
             "line": {
              "color": "#E5ECF6",
              "width": 0.5
             },
             "pattern": {
              "fillmode": "overlay",
              "size": 10,
              "solidity": 0.2
             }
            },
            "type": "bar"
           }
          ],
          "barpolar": [
           {
            "marker": {
             "line": {
              "color": "#E5ECF6",
              "width": 0.5
             },
             "pattern": {
              "fillmode": "overlay",
              "size": 10,
              "solidity": 0.2
             }
            },
            "type": "barpolar"
           }
          ],
          "carpet": [
           {
            "aaxis": {
             "endlinecolor": "#2a3f5f",
             "gridcolor": "white",
             "linecolor": "white",
             "minorgridcolor": "white",
             "startlinecolor": "#2a3f5f"
            },
            "baxis": {
             "endlinecolor": "#2a3f5f",
             "gridcolor": "white",
             "linecolor": "white",
             "minorgridcolor": "white",
             "startlinecolor": "#2a3f5f"
            },
            "type": "carpet"
           }
          ],
          "choropleth": [
           {
            "colorbar": {
             "outlinewidth": 0,
             "ticks": ""
            },
            "type": "choropleth"
           }
          ],
          "contour": [
           {
            "colorbar": {
             "outlinewidth": 0,
             "ticks": ""
            },
            "colorscale": [
             [
              0,
              "#0d0887"
             ],
             [
              0.1111111111111111,
              "#46039f"
             ],
             [
              0.2222222222222222,
              "#7201a8"
             ],
             [
              0.3333333333333333,
              "#9c179e"
             ],
             [
              0.4444444444444444,
              "#bd3786"
             ],
             [
              0.5555555555555556,
              "#d8576b"
             ],
             [
              0.6666666666666666,
              "#ed7953"
             ],
             [
              0.7777777777777778,
              "#fb9f3a"
             ],
             [
              0.8888888888888888,
              "#fdca26"
             ],
             [
              1,
              "#f0f921"
             ]
            ],
            "type": "contour"
           }
          ],
          "contourcarpet": [
           {
            "colorbar": {
             "outlinewidth": 0,
             "ticks": ""
            },
            "type": "contourcarpet"
           }
          ],
          "heatmap": [
           {
            "colorbar": {
             "outlinewidth": 0,
             "ticks": ""
            },
            "colorscale": [
             [
              0,
              "#0d0887"
             ],
             [
              0.1111111111111111,
              "#46039f"
             ],
             [
              0.2222222222222222,
              "#7201a8"
             ],
             [
              0.3333333333333333,
              "#9c179e"
             ],
             [
              0.4444444444444444,
              "#bd3786"
             ],
             [
              0.5555555555555556,
              "#d8576b"
             ],
             [
              0.6666666666666666,
              "#ed7953"
             ],
             [
              0.7777777777777778,
              "#fb9f3a"
             ],
             [
              0.8888888888888888,
              "#fdca26"
             ],
             [
              1,
              "#f0f921"
             ]
            ],
            "type": "heatmap"
           }
          ],
          "heatmapgl": [
           {
            "colorbar": {
             "outlinewidth": 0,
             "ticks": ""
            },
            "colorscale": [
             [
              0,
              "#0d0887"
             ],
             [
              0.1111111111111111,
              "#46039f"
             ],
             [
              0.2222222222222222,
              "#7201a8"
             ],
             [
              0.3333333333333333,
              "#9c179e"
             ],
             [
              0.4444444444444444,
              "#bd3786"
             ],
             [
              0.5555555555555556,
              "#d8576b"
             ],
             [
              0.6666666666666666,
              "#ed7953"
             ],
             [
              0.7777777777777778,
              "#fb9f3a"
             ],
             [
              0.8888888888888888,
              "#fdca26"
             ],
             [
              1,
              "#f0f921"
             ]
            ],
            "type": "heatmapgl"
           }
          ],
          "histogram": [
           {
            "marker": {
             "pattern": {
              "fillmode": "overlay",
              "size": 10,
              "solidity": 0.2
             }
            },
            "type": "histogram"
           }
          ],
          "histogram2d": [
           {
            "colorbar": {
             "outlinewidth": 0,
             "ticks": ""
            },
            "colorscale": [
             [
              0,
              "#0d0887"
             ],
             [
              0.1111111111111111,
              "#46039f"
             ],
             [
              0.2222222222222222,
              "#7201a8"
             ],
             [
              0.3333333333333333,
              "#9c179e"
             ],
             [
              0.4444444444444444,
              "#bd3786"
             ],
             [
              0.5555555555555556,
              "#d8576b"
             ],
             [
              0.6666666666666666,
              "#ed7953"
             ],
             [
              0.7777777777777778,
              "#fb9f3a"
             ],
             [
              0.8888888888888888,
              "#fdca26"
             ],
             [
              1,
              "#f0f921"
             ]
            ],
            "type": "histogram2d"
           }
          ],
          "histogram2dcontour": [
           {
            "colorbar": {
             "outlinewidth": 0,
             "ticks": ""
            },
            "colorscale": [
             [
              0,
              "#0d0887"
             ],
             [
              0.1111111111111111,
              "#46039f"
             ],
             [
              0.2222222222222222,
              "#7201a8"
             ],
             [
              0.3333333333333333,
              "#9c179e"
             ],
             [
              0.4444444444444444,
              "#bd3786"
             ],
             [
              0.5555555555555556,
              "#d8576b"
             ],
             [
              0.6666666666666666,
              "#ed7953"
             ],
             [
              0.7777777777777778,
              "#fb9f3a"
             ],
             [
              0.8888888888888888,
              "#fdca26"
             ],
             [
              1,
              "#f0f921"
             ]
            ],
            "type": "histogram2dcontour"
           }
          ],
          "mesh3d": [
           {
            "colorbar": {
             "outlinewidth": 0,
             "ticks": ""
            },
            "type": "mesh3d"
           }
          ],
          "parcoords": [
           {
            "line": {
             "colorbar": {
              "outlinewidth": 0,
              "ticks": ""
             }
            },
            "type": "parcoords"
           }
          ],
          "pie": [
           {
            "automargin": true,
            "type": "pie"
           }
          ],
          "scatter": [
           {
            "marker": {
             "colorbar": {
              "outlinewidth": 0,
              "ticks": ""
             }
            },
            "type": "scatter"
           }
          ],
          "scatter3d": [
           {
            "line": {
             "colorbar": {
              "outlinewidth": 0,
              "ticks": ""
             }
            },
            "marker": {
             "colorbar": {
              "outlinewidth": 0,
              "ticks": ""
             }
            },
            "type": "scatter3d"
           }
          ],
          "scattercarpet": [
           {
            "marker": {
             "colorbar": {
              "outlinewidth": 0,
              "ticks": ""
             }
            },
            "type": "scattercarpet"
           }
          ],
          "scattergeo": [
           {
            "marker": {
             "colorbar": {
              "outlinewidth": 0,
              "ticks": ""
             }
            },
            "type": "scattergeo"
           }
          ],
          "scattergl": [
           {
            "marker": {
             "colorbar": {
              "outlinewidth": 0,
              "ticks": ""
             }
            },
            "type": "scattergl"
           }
          ],
          "scattermapbox": [
           {
            "marker": {
             "colorbar": {
              "outlinewidth": 0,
              "ticks": ""
             }
            },
            "type": "scattermapbox"
           }
          ],
          "scatterpolar": [
           {
            "marker": {
             "colorbar": {
              "outlinewidth": 0,
              "ticks": ""
             }
            },
            "type": "scatterpolar"
           }
          ],
          "scatterpolargl": [
           {
            "marker": {
             "colorbar": {
              "outlinewidth": 0,
              "ticks": ""
             }
            },
            "type": "scatterpolargl"
           }
          ],
          "scatterternary": [
           {
            "marker": {
             "colorbar": {
              "outlinewidth": 0,
              "ticks": ""
             }
            },
            "type": "scatterternary"
           }
          ],
          "surface": [
           {
            "colorbar": {
             "outlinewidth": 0,
             "ticks": ""
            },
            "colorscale": [
             [
              0,
              "#0d0887"
             ],
             [
              0.1111111111111111,
              "#46039f"
             ],
             [
              0.2222222222222222,
              "#7201a8"
             ],
             [
              0.3333333333333333,
              "#9c179e"
             ],
             [
              0.4444444444444444,
              "#bd3786"
             ],
             [
              0.5555555555555556,
              "#d8576b"
             ],
             [
              0.6666666666666666,
              "#ed7953"
             ],
             [
              0.7777777777777778,
              "#fb9f3a"
             ],
             [
              0.8888888888888888,
              "#fdca26"
             ],
             [
              1,
              "#f0f921"
             ]
            ],
            "type": "surface"
           }
          ],
          "table": [
           {
            "cells": {
             "fill": {
              "color": "#EBF0F8"
             },
             "line": {
              "color": "white"
             }
            },
            "header": {
             "fill": {
              "color": "#C8D4E3"
             },
             "line": {
              "color": "white"
             }
            },
            "type": "table"
           }
          ]
         },
         "layout": {
          "annotationdefaults": {
           "arrowcolor": "#2a3f5f",
           "arrowhead": 0,
           "arrowwidth": 1
          },
          "autotypenumbers": "strict",
          "coloraxis": {
           "colorbar": {
            "outlinewidth": 0,
            "ticks": ""
           }
          },
          "colorscale": {
           "diverging": [
            [
             0,
             "#8e0152"
            ],
            [
             0.1,
             "#c51b7d"
            ],
            [
             0.2,
             "#de77ae"
            ],
            [
             0.3,
             "#f1b6da"
            ],
            [
             0.4,
             "#fde0ef"
            ],
            [
             0.5,
             "#f7f7f7"
            ],
            [
             0.6,
             "#e6f5d0"
            ],
            [
             0.7,
             "#b8e186"
            ],
            [
             0.8,
             "#7fbc41"
            ],
            [
             0.9,
             "#4d9221"
            ],
            [
             1,
             "#276419"
            ]
           ],
           "sequential": [
            [
             0,
             "#0d0887"
            ],
            [
             0.1111111111111111,
             "#46039f"
            ],
            [
             0.2222222222222222,
             "#7201a8"
            ],
            [
             0.3333333333333333,
             "#9c179e"
            ],
            [
             0.4444444444444444,
             "#bd3786"
            ],
            [
             0.5555555555555556,
             "#d8576b"
            ],
            [
             0.6666666666666666,
             "#ed7953"
            ],
            [
             0.7777777777777778,
             "#fb9f3a"
            ],
            [
             0.8888888888888888,
             "#fdca26"
            ],
            [
             1,
             "#f0f921"
            ]
           ],
           "sequentialminus": [
            [
             0,
             "#0d0887"
            ],
            [
             0.1111111111111111,
             "#46039f"
            ],
            [
             0.2222222222222222,
             "#7201a8"
            ],
            [
             0.3333333333333333,
             "#9c179e"
            ],
            [
             0.4444444444444444,
             "#bd3786"
            ],
            [
             0.5555555555555556,
             "#d8576b"
            ],
            [
             0.6666666666666666,
             "#ed7953"
            ],
            [
             0.7777777777777778,
             "#fb9f3a"
            ],
            [
             0.8888888888888888,
             "#fdca26"
            ],
            [
             1,
             "#f0f921"
            ]
           ]
          },
          "colorway": [
           "#636efa",
           "#EF553B",
           "#00cc96",
           "#ab63fa",
           "#FFA15A",
           "#19d3f3",
           "#FF6692",
           "#B6E880",
           "#FF97FF",
           "#FECB52"
          ],
          "font": {
           "color": "#2a3f5f"
          },
          "geo": {
           "bgcolor": "white",
           "lakecolor": "white",
           "landcolor": "#E5ECF6",
           "showlakes": true,
           "showland": true,
           "subunitcolor": "white"
          },
          "hoverlabel": {
           "align": "left"
          },
          "hovermode": "closest",
          "mapbox": {
           "style": "light"
          },
          "paper_bgcolor": "white",
          "plot_bgcolor": "#E5ECF6",
          "polar": {
           "angularaxis": {
            "gridcolor": "white",
            "linecolor": "white",
            "ticks": ""
           },
           "bgcolor": "#E5ECF6",
           "radialaxis": {
            "gridcolor": "white",
            "linecolor": "white",
            "ticks": ""
           }
          },
          "scene": {
           "xaxis": {
            "backgroundcolor": "#E5ECF6",
            "gridcolor": "white",
            "gridwidth": 2,
            "linecolor": "white",
            "showbackground": true,
            "ticks": "",
            "zerolinecolor": "white"
           },
           "yaxis": {
            "backgroundcolor": "#E5ECF6",
            "gridcolor": "white",
            "gridwidth": 2,
            "linecolor": "white",
            "showbackground": true,
            "ticks": "",
            "zerolinecolor": "white"
           },
           "zaxis": {
            "backgroundcolor": "#E5ECF6",
            "gridcolor": "white",
            "gridwidth": 2,
            "linecolor": "white",
            "showbackground": true,
            "ticks": "",
            "zerolinecolor": "white"
           }
          },
          "shapedefaults": {
           "line": {
            "color": "#2a3f5f"
           }
          },
          "ternary": {
           "aaxis": {
            "gridcolor": "white",
            "linecolor": "white",
            "ticks": ""
           },
           "baxis": {
            "gridcolor": "white",
            "linecolor": "white",
            "ticks": ""
           },
           "bgcolor": "#E5ECF6",
           "caxis": {
            "gridcolor": "white",
            "linecolor": "white",
            "ticks": ""
           }
          },
          "title": {
           "x": 0.05
          },
          "xaxis": {
           "automargin": true,
           "gridcolor": "white",
           "linecolor": "white",
           "ticks": "",
           "title": {
            "standoff": 15
           },
           "zerolinecolor": "white",
           "zerolinewidth": 2
          },
          "yaxis": {
           "automargin": true,
           "gridcolor": "white",
           "linecolor": "white",
           "ticks": "",
           "title": {
            "standoff": 15
           },
           "zerolinecolor": "white",
           "zerolinewidth": 2
          }
         }
        },
        "xaxis": {
         "anchor": "y",
         "autorange": true,
         "domain": [
          0,
          1
         ],
         "range": [
          -1,
          6
         ],
         "title": {
          "text": "index"
         }
        },
        "yaxis": {
         "anchor": "x",
         "autorange": true,
         "domain": [
          0,
          1
         ],
         "range": [
          -1,
          4
         ],
         "title": {
          "text": "value"
         }
        }
       }
      },
      "image/png": "[encoded data removed]",
      "text/html": [
       "<div>                            <div id=\"0d4431b9-ec0f-4cda-ba78-e19824df3efe\" class=\"plotly-graph-div\" style=\"height:525px; width:100%;\"></div>            <script type=\"text/javascript\">                require([\"plotly\"], function(Plotly) {                    window.PLOTLYENV=window.PLOTLYENV || {};                                    if (document.getElementById(\"0d4431b9-ec0f-4cda-ba78-e19824df3efe\")) {                    Plotly.newPlot(                        \"0d4431b9-ec0f-4cda-ba78-e19824df3efe\",                        [],                        {\"template\":{\"data\":{\"bar\":[{\"error_x\":{\"color\":\"#2a3f5f\"},\"error_y\":{\"color\":\"#2a3f5f\"},\"marker\":{\"line\":{\"color\":\"#E5ECF6\",\"width\":0.5},\"pattern\":{\"fillmode\":\"overlay\",\"size\":10,\"solidity\":0.2}},\"type\":\"bar\"}],\"barpolar\":[{\"marker\":{\"line\":{\"color\":\"#E5ECF6\",\"width\":0.5},\"pattern\":{\"fillmode\":\"overlay\",\"size\":10,\"solidity\":0.2}},\"type\":\"barpolar\"}],\"carpet\":[{\"aaxis\":{\"endlinecolor\":\"#2a3f5f\",\"gridcolor\":\"white\",\"linecolor\":\"white\",\"minorgridcolor\":\"white\",\"startlinecolor\":\"#2a3f5f\"},\"baxis\":{\"endlinecolor\":\"#2a3f5f\",\"gridcolor\":\"white\",\"linecolor\":\"white\",\"minorgridcolor\":\"white\",\"startlinecolor\":\"#2a3f5f\"},\"type\":\"carpet\"}],\"choropleth\":[{\"colorbar\":{\"outlinewidth\":0,\"ticks\":\"\"},\"type\":\"choropleth\"}],\"contour\":[{\"colorbar\":{\"outlinewidth\":0,\"ticks\":\"\"},\"colorscale\":[[0.0,\"#0d0887\"],[0.1111111111111111,\"#46039f\"],[0.2222222222222222,\"#7201a8\"],[0.3333333333333333,\"#9c179e\"],[0.4444444444444444,\"#bd3786\"],[0.5555555555555556,\"#d8576b\"],[0.6666666666666666,\"#ed7953\"],[0.7777777777777778,\"#fb9f3a\"],[0.8888888888888888,\"#fdca26\"],[1.0,\"#f0f921\"]],\"type\":\"contour\"}],\"contourcarpet\":[{\"colorbar\":{\"outlinewidth\":0,\"ticks\":\"\"},\"type\":\"contourcarpet\"}],\"heatmap\":[{\"colorbar\":{\"outlinewidth\":0,\"ticks\":\"\"},\"colorscale\":[[0.0,\"#0d0887\"],[0.1111111111111111,\"#46039f\"],[0.2222222222222222,\"#7201a8\"],[0.3333333333333333,\"#9c179e\"],[0.4444444444444444,\"#bd3786\"],[0.5555555555555556,\"#d8576b\"],[0.6666666666666666,\"#ed7953\"],[0.7777777777777778,\"#fb9f3a\"],[0.8888888888888888,\"#fdca26\"],[1.0,\"#f0f921\"]],\"type\":\"heatmap\"}],\"heatmapgl\":[{\"colorbar\":{\"outlinewidth\":0,\"ticks\":\"\"},\"colorscale\":[[0.0,\"#0d0887\"],[0.1111111111111111,\"#46039f\"],[0.2222222222222222,\"#7201a8\"],[0.3333333333333333,\"#9c179e\"],[0.4444444444444444,\"#bd3786\"],[0.5555555555555556,\"#d8576b\"],[0.6666666666666666,\"#ed7953\"],[0.7777777777777778,\"#fb9f3a\"],[0.8888888888888888,\"#fdca26\"],[1.0,\"#f0f921\"]],\"type\":\"heatmapgl\"}],\"histogram\":[{\"marker\":{\"pattern\":{\"fillmode\":\"overlay\",\"size\":10,\"solidity\":0.2}},\"type\":\"histogram\"}],\"histogram2d\":[{\"colorbar\":{\"outlinewidth\":0,\"ticks\":\"\"},\"colorscale\":[[0.0,\"#0d0887\"],[0.1111111111111111,\"#46039f\"],[0.2222222222222222,\"#7201a8\"],[0.3333333333333333,\"#9c179e\"],[0.4444444444444444,\"#bd3786\"],[0.5555555555555556,\"#d8576b\"],[0.6666666666666666,\"#ed7953\"],[0.7777777777777778,\"#fb9f3a\"],[0.8888888888888888,\"#fdca26\"],[1.0,\"#f0f921\"]],\"type\":\"histogram2d\"}],\"histogram2dcontour\":[{\"colorbar\":{\"outlinewidth\":0,\"ticks\":\"\"},\"colorscale\":[[0.0,\"#0d0887\"],[0.1111111111111111,\"#46039f\"],[0.2222222222222222,\"#7201a8\"],[0.3333333333333333,\"#9c179e\"],[0.4444444444444444,\"#bd3786\"],[0.5555555555555556,\"#d8576b\"],[0.6666666666666666,\"#ed7953\"],[0.7777777777777778,\"#fb9f3a\"],[0.8888888888888888,\"#fdca26\"],[1.0,\"#f0f921\"]],\"type\":\"histogram2dcontour\"}],\"mesh3d\":[{\"colorbar\":{\"outlinewidth\":0,\"ticks\":\"\"},\"type\":\"mesh3d\"}],\"parcoords\":[{\"line\":{\"colorbar\":{\"outlinewidth\":0,\"ticks\":\"\"}},\"type\":\"parcoords\"}],\"pie\":[{\"automargin\":true,\"type\":\"pie\"}],\"scatter\":[{\"marker\":{\"colorbar\":{\"outlinewidth\":0,\"ticks\":\"\"}},\"type\":\"scatter\"}],\"scatter3d\":[{\"line\":{\"colorbar\":{\"outlinewidth\":0,\"ticks\":\"\"}},\"marker\":{\"colorbar\":{\"outlinewidth\":0,\"ticks\":\"\"}},\"type\":\"scatter3d\"}],\"scattercarpet\":[{\"marker\":{\"colorbar\":{\"outlinewidth\":0,\"ticks\":\"\"}},\"type\":\"scattercarpet\"}],\"scattergeo\":[{\"marker\":{\"colorbar\":{\"outlinewidth\":0,\"ticks\":\"\"}},\"type\":\"scattergeo\"}],\"scattergl\":[{\"marker\":{\"colorbar\":{\"outlinewidth\":0,\"ticks\":\"\"}},\"type\":\"scattergl\"}],\"scattermapbox\":[{\"marker\":{\"colorbar\":{\"outlinewidth\":0,\"ticks\":\"\"}},\"type\":\"scattermapbox\"}],\"scatterpolar\":[{\"marker\":{\"colorbar\":{\"outlinewidth\":0,\"ticks\":\"\"}},\"type\":\"scatterpolar\"}],\"scatterpolargl\":[{\"marker\":{\"colorbar\":{\"outlinewidth\":0,\"ticks\":\"\"}},\"type\":\"scatterpolargl\"}],\"scatterternary\":[{\"marker\":{\"colorbar\":{\"outlinewidth\":0,\"ticks\":\"\"}},\"type\":\"scatterternary\"}],\"surface\":[{\"colorbar\":{\"outlinewidth\":0,\"ticks\":\"\"},\"colorscale\":[[0.0,\"#0d0887\"],[0.1111111111111111,\"#46039f\"],[0.2222222222222222,\"#7201a8\"],[0.3333333333333333,\"#9c179e\"],[0.4444444444444444,\"#bd3786\"],[0.5555555555555556,\"#d8576b\"],[0.6666666666666666,\"#ed7953\"],[0.7777777777777778,\"#fb9f3a\"],[0.8888888888888888,\"#fdca26\"],[1.0,\"#f0f921\"]],\"type\":\"surface\"}],\"table\":[{\"cells\":{\"fill\":{\"color\":\"#EBF0F8\"},\"line\":{\"color\":\"white\"}},\"header\":{\"fill\":{\"color\":\"#C8D4E3\"},\"line\":{\"color\":\"white\"}},\"type\":\"table\"}]},\"layout\":{\"annotationdefaults\":{\"arrowcolor\":\"#2a3f5f\",\"arrowhead\":0,\"arrowwidth\":1},\"autotypenumbers\":\"strict\",\"coloraxis\":{\"colorbar\":{\"outlinewidth\":0,\"ticks\":\"\"}},\"colorscale\":{\"diverging\":[[0,\"#8e0152\"],[0.1,\"#c51b7d\"],[0.2,\"#de77ae\"],[0.3,\"#f1b6da\"],[0.4,\"#fde0ef\"],[0.5,\"#f7f7f7\"],[0.6,\"#e6f5d0\"],[0.7,\"#b8e186\"],[0.8,\"#7fbc41\"],[0.9,\"#4d9221\"],[1,\"#276419\"]],\"sequential\":[[0.0,\"#0d0887\"],[0.1111111111111111,\"#46039f\"],[0.2222222222222222,\"#7201a8\"],[0.3333333333333333,\"#9c179e\"],[0.4444444444444444,\"#bd3786\"],[0.5555555555555556,\"#d8576b\"],[0.6666666666666666,\"#ed7953\"],[0.7777777777777778,\"#fb9f3a\"],[0.8888888888888888,\"#fdca26\"],[1.0,\"#f0f921\"]],\"sequentialminus\":[[0.0,\"#0d0887\"],[0.1111111111111111,\"#46039f\"],[0.2222222222222222,\"#7201a8\"],[0.3333333333333333,\"#9c179e\"],[0.4444444444444444,\"#bd3786\"],[0.5555555555555556,\"#d8576b\"],[0.6666666666666666,\"#ed7953\"],[0.7777777777777778,\"#fb9f3a\"],[0.8888888888888888,\"#fdca26\"],[1.0,\"#f0f921\"]]},\"colorway\":[\"#636efa\",\"#EF553B\",\"#00cc96\",\"#ab63fa\",\"#FFA15A\",\"#19d3f3\",\"#FF6692\",\"#B6E880\",\"#FF97FF\",\"#FECB52\"],\"font\":{\"color\":\"#2a3f5f\"},\"geo\":{\"bgcolor\":\"white\",\"lakecolor\":\"white\",\"landcolor\":\"#E5ECF6\",\"showlakes\":true,\"showland\":true,\"subunitcolor\":\"white\"},\"hoverlabel\":{\"align\":\"left\"},\"hovermode\":\"closest\",\"mapbox\":{\"style\":\"light\"},\"paper_bgcolor\":\"white\",\"plot_bgcolor\":\"#E5ECF6\",\"polar\":{\"angularaxis\":{\"gridcolor\":\"white\",\"linecolor\":\"white\",\"ticks\":\"\"},\"bgcolor\":\"#E5ECF6\",\"radialaxis\":{\"gridcolor\":\"white\",\"linecolor\":\"white\",\"ticks\":\"\"}},\"scene\":{\"xaxis\":{\"backgroundcolor\":\"#E5ECF6\",\"gridcolor\":\"white\",\"gridwidth\":2,\"linecolor\":\"white\",\"showbackground\":true,\"ticks\":\"\",\"zerolinecolor\":\"white\"},\"yaxis\":{\"backgroundcolor\":\"#E5ECF6\",\"gridcolor\":\"white\",\"gridwidth\":2,\"linecolor\":\"white\",\"showbackground\":true,\"ticks\":\"\",\"zerolinecolor\":\"white\"},\"zaxis\":{\"backgroundcolor\":\"#E5ECF6\",\"gridcolor\":\"white\",\"gridwidth\":2,\"linecolor\":\"white\",\"showbackground\":true,\"ticks\":\"\",\"zerolinecolor\":\"white\"}},\"shapedefaults\":{\"line\":{\"color\":\"#2a3f5f\"}},\"ternary\":{\"aaxis\":{\"gridcolor\":\"white\",\"linecolor\":\"white\",\"ticks\":\"\"},\"baxis\":{\"gridcolor\":\"white\",\"linecolor\":\"white\",\"ticks\":\"\"},\"bgcolor\":\"#E5ECF6\",\"caxis\":{\"gridcolor\":\"white\",\"linecolor\":\"white\",\"ticks\":\"\"}},\"title\":{\"x\":0.05},\"xaxis\":{\"automargin\":true,\"gridcolor\":\"white\",\"linecolor\":\"white\",\"ticks\":\"\",\"title\":{\"standoff\":15},\"zerolinecolor\":\"white\",\"zerolinewidth\":2},\"yaxis\":{\"automargin\":true,\"gridcolor\":\"white\",\"linecolor\":\"white\",\"ticks\":\"\",\"title\":{\"standoff\":15},\"zerolinecolor\":\"white\",\"zerolinewidth\":2}}},\"xaxis\":{\"anchor\":\"y\",\"domain\":[0.0,1.0],\"title\":{\"text\":\"index\"}},\"yaxis\":{\"anchor\":\"x\",\"domain\":[0.0,1.0],\"title\":{\"text\":\"value\"}},\"legend\":{\"tracegroupgap\":0},\"margin\":{\"t\":60}},                        {\"responsive\": true}                    ).then(function(){\n",
       "                            \n",
       "var gd = document.getElementById('0d4431b9-ec0f-4cda-ba78-e19824df3efe');\n",
       "var x = new MutationObserver(function (mutations, observer) {{\n",
       "        var display = window.getComputedStyle(gd).display;\n",
       "        if (!display || display === 'none') {{\n",
       "            console.log([gd, 'removed!']);\n",
       "            Plotly.purge(gd);\n",
       "            observer.disconnect();\n",
       "        }}\n",
       "}});\n",
       "\n",
       "// Listen for the removal of the full notebook cells\n",
       "var notebookContainer = gd.closest('#notebook-container');\n",
       "if (notebookContainer) {{\n",
       "    x.observe(notebookContainer, {childList: true});\n",
       "}}\n",
       "\n",
       "// Listen for the clearing of the current output cell\n",
       "var outputEl = gd.closest('.output');\n",
       "if (outputEl) {{\n",
       "    x.observe(outputEl, {childList: true});\n",
       "}}\n",
       "\n",
       "                        })                };                });            </script>        </div>"
      ]
     },
     "metadata": {},
     "output_type": "display_data"
    }
   ],
   "source": [
    "lrs = [10**-2, 10**-3, 10**-4, 10**-5]\n",
    "binary_classifier.train_eval(3, lrs)\n",
    "clear_output()\n",
    "px.line(binary_classifier.epoch_losses)"
   ]
  },
  {
   "cell_type": "code",
   "execution_count": 1335,
   "id": "92f95a2b-47df-4391-93dd-1551eb7f8fb9",
   "metadata": {},
   "outputs": [
    {
     "ename": "AttributeError",
     "evalue": "'Trainer' object has no attribute 'reports'",
     "output_type": "error",
     "traceback": [
      "\u001b[0;31m---------------------------------------------------------------------------\u001b[0m",
      "\u001b[0;31mAttributeError\u001b[0m                            Traceback (most recent call last)",
      "\u001b[0;32m/tmp/ipykernel_3236/3141622314.py\u001b[0m in \u001b[0;36m<module>\u001b[0;34m\u001b[0m\n\u001b[0;32m----> 1\u001b[0;31m ct.create_report(binary_classifier,[\"positive\", \"negative\", \"other\"],\n\u001b[0m\u001b[1;32m      2\u001b[0m                  \u001b[0magreement_threshold\u001b[0m\u001b[0;34m=\u001b[0m\u001b[0;36m0.501\u001b[0m\u001b[0;34m,\u001b[0m\u001b[0;34m\u001b[0m\u001b[0;34m\u001b[0m\u001b[0m\n\u001b[1;32m      3\u001b[0m                  normalize_confusion = False)\n\u001b[1;32m      4\u001b[0m \u001b[0;34m\u001b[0m\u001b[0m\n\u001b[1;32m      5\u001b[0m \u001b[0;32mif\u001b[0m \u001b[0msave\u001b[0m \u001b[0;34m:\u001b[0m\u001b[0;34m\u001b[0m\u001b[0;34m\u001b[0m\u001b[0m\n",
      "\u001b[0;32m/scratch/students/2021-fall-mt-rszymcza/code/custom.py\u001b[0m in \u001b[0;36mcreate_report\u001b[0;34m(model_data, confusion_labels, normalize_confusion, show_fig, agreement_threshold)\u001b[0m\n",
      "\u001b[0;31mAttributeError\u001b[0m: 'Trainer' object has no attribute 'reports'"
     ]
    }
   ],
   "source": [
    "ct.create_report(binary_classifier,[\"positive\", \"negative\", \"other\"],\n",
    "                 agreement_threshold=0.501,\n",
    "                 normalize_confusion = False)\n",
    "\n",
    "if save :\n",
    "    path = \"../results/clip_training/RN50x16/binary\"\n",
    "    if not osp.exists(path) : os.mkdir(path)\n",
    "    export_results(binary_classifier.get_last_metrics(), path)"
   ]
  },
  {
   "cell_type": "code",
   "execution_count": 665,
   "id": "6827c5c6-36e5-4d49-b3f5-f06391837f31",
   "metadata": {},
   "outputs": [],
   "source": [
    "if save :\n",
    "    path = \"../neural_checkpoints/slp_3_classes\"\n",
    "    torch.save(binary_classifier.model.state_dict(), path)"
   ]
  },
  {
   "cell_type": "markdown",
   "id": "acc24733-3154-4866-9859-29af4d797099",
   "metadata": {
    "jp-MarkdownHeadingCollapsed": true,
    "tags": []
   },
   "source": [
    "## Model trained on 9 emotions as binary classifier \n",
    "\n"
   ]
  },
  {
   "cell_type": "code",
   "execution_count": 1011,
   "id": "c0cb85c6-d176-4a88-b177-58d624824b43",
   "metadata": {},
   "outputs": [],
   "source": [
    "result_to_binarise = slps[\"RN50x16\"].get_last_results()[\"results\"]\n"
   ]
  },
  {
   "cell_type": "code",
   "execution_count": 894,
   "id": "b627ca61-bc64-41b9-9a5d-13e929e78b85",
   "metadata": {},
   "outputs": [],
   "source": [
    "bineriser = positive_negative_binaring()\n"
   ]
  },
  {
   "cell_type": "code",
   "execution_count": 925,
   "id": "fa458bd2-b10d-42f2-91ba-f88fab0b20f3",
   "metadata": {},
   "outputs": [],
   "source": [
    "result_binarised = bineriser({\"label\": torch.tensor(result_to_binarise).softmax(1)})[\"label\"].numpy()\n",
    "labels_binariser = r[\"label\"].numpy()"
   ]
  },
  {
   "cell_type": "code",
   "execution_count": 943,
   "id": "405c4390-338a-48bb-b2b4-bd5f123aa11e",
   "metadata": {},
   "outputs": [
    {
     "data": {
      "text/plain": [
       "{'agreement_threshold': 0.501,\n",
       " 'labels_thresholded': array([ True,  True,  True, ...,  True, False,  True]),\n",
       " 'confusion_matrix':           positive  negative  other\n",
       " positive      4888       283     21\n",
       " negative       649       754      6\n",
       " other          113        21     19,\n",
       " 'precision_recall_fscore_support': (array([0.86513274, 0.71266541, 0.41304348]),\n",
       "  array([0.94144838, 0.5351313 , 0.12418301]),\n",
       "  array([0.90167866, 0.61126875, 0.19095477]),\n",
       "  array([5192, 1409,  153])),\n",
       " 'recall': 0.5335875624852555,\n",
       " 'f1_score': 0.5679673928034152,\n",
       " 'accuracy': 0.8381699733491265}"
      ]
     },
     "execution_count": 943,
     "metadata": {},
     "output_type": "execute_result"
    }
   ],
   "source": [
    "ct.compute_metrics_for_threshold(result_binarised,\n",
    "                                 labels_binariser,\n",
    "                                 agreement_threshold=0.501,\n",
    "                                 confusion_labels = [\"positive\", \"negative\", \"other\"] )\n",
    "#ct.plot_confusion_matrix(ct.create_confusion_matrix(labels_binariser, \n",
    " #                                                   result_binarised))"
   ]
  },
  {
   "cell_type": "markdown",
   "id": "359e7181",
   "metadata": {
    "tags": []
   },
   "source": [
    "## Raw images"
   ]
  },
  {
   "cell_type": "code",
   "execution_count": 12,
   "id": "dba6c5b5-a310-4a92-b0e9-5e39ca07bab3",
   "metadata": {},
   "outputs": [],
   "source": [
    "name = \"img_size_224\"\n",
    "path = osp.join(data_path, \"preprocessed\", name)\n",
    "if not osp.exists(path):\n",
    "    print(f\"embeddings for {name} not found, please extract them before proceeding\")\n",
    "clip_img = Trainer(model = SLP(input_size=150528, output_size=9).to(device),\n",
    "                         loss_fn = nn.BCEWithLogitsLoss(),\n",
    "                         optimizer_fn = torch.optim.Adam,\n",
    "                         lr=10**-3,\n",
    "                         data_loaders=img_loaders,\n",
    "                         device=device)\n",
    "models[\"Raw-img\"] = clip_img"
   ]
  },
  {
   "cell_type": "code",
   "execution_count": 14,
   "id": "2ea0f5af",
   "metadata": {},
   "outputs": [
    {
     "name": "stdout",
     "output_type": "stream",
     "text": [
      "Your model is running correctly. Rejoice ! :-)\n"
     ]
    }
   ],
   "source": [
    "clip_img.lr = 10**-4\n",
    "clip_img.test_network(100)"
   ]
  },
  {
   "cell_type": "code",
   "execution_count": 16,
   "id": "53abc0f4",
   "metadata": {},
   "outputs": [
    {
     "data": {
      "text/plain": [
       "[<matplotlib.lines.Line2D at 0x7fef7ed3d160>]"
      ]
     },
     "execution_count": 16,
     "metadata": {},
     "output_type": "execute_result"
    },
    {
     "data": {
      "image/png": "[encoded data removed]",
      "text/plain": [
       "<Figure size 432x288 with 1 Axes>"
      ]
     },
     "metadata": {
      "image/png": {
       "height": 248,
       "width": 388
      },
      "needs_background": "light"
     },
     "output_type": "display_data"
    }
   ],
   "source": [
    "clip_img.train_eval(5, [10**-3,10**-4,10**-5])\n",
    "clear_output()\n",
    "plt.plot(clip_img.epoch_losses)"
   ]
  },
  {
   "cell_type": "code",
   "execution_count": 938,
   "id": "6ef5d9e5",
   "metadata": {},
   "outputs": [
    {
     "name": "stdout",
     "output_type": "stream",
     "text": [
      "showing results with agreements of 51.0% at epoch n°11\n",
      "\n"
     ]
    },
    {
     "data": {
      "text/html": [
       "<div>\n",
       "<style scoped>\n",
       "    .dataframe tbody tr th:only-of-type {\n",
       "        vertical-align: middle;\n",
       "    }\n",
       "\n",
       "    .dataframe tbody tr th {\n",
       "        vertical-align: top;\n",
       "    }\n",
       "\n",
       "    .dataframe thead th {\n",
       "        text-align: right;\n",
       "    }\n",
       "</style>\n",
       "<table border=\"1\" class=\"dataframe\">\n",
       "  <thead>\n",
       "    <tr style=\"text-align: right;\">\n",
       "      <th></th>\n",
       "      <th>amusement</th>\n",
       "      <th>awe</th>\n",
       "      <th>contentment</th>\n",
       "      <th>excitement</th>\n",
       "      <th>anger</th>\n",
       "      <th>disgust</th>\n",
       "      <th>fear</th>\n",
       "      <th>sadness</th>\n",
       "      <th>something else</th>\n",
       "    </tr>\n",
       "  </thead>\n",
       "  <tbody>\n",
       "    <tr>\n",
       "      <th>precision</th>\n",
       "      <td>0.09</td>\n",
       "      <td>0.17</td>\n",
       "      <td>0.56</td>\n",
       "      <td>0.04</td>\n",
       "      <td>0.0</td>\n",
       "      <td>0.02</td>\n",
       "      <td>0.13</td>\n",
       "      <td>0.11</td>\n",
       "      <td>0.03</td>\n",
       "    </tr>\n",
       "    <tr>\n",
       "      <th>recall</th>\n",
       "      <td>0.12</td>\n",
       "      <td>0.19</td>\n",
       "      <td>0.43</td>\n",
       "      <td>0.04</td>\n",
       "      <td>0.0</td>\n",
       "      <td>0.05</td>\n",
       "      <td>0.12</td>\n",
       "      <td>0.09</td>\n",
       "      <td>0.05</td>\n",
       "    </tr>\n",
       "    <tr>\n",
       "      <th>f1_score</th>\n",
       "      <td>0.10</td>\n",
       "      <td>0.18</td>\n",
       "      <td>0.49</td>\n",
       "      <td>0.04</td>\n",
       "      <td>0.0</td>\n",
       "      <td>0.03</td>\n",
       "      <td>0.13</td>\n",
       "      <td>0.10</td>\n",
       "      <td>0.04</td>\n",
       "    </tr>\n",
       "    <tr>\n",
       "      <th>support</th>\n",
       "      <td>230.00</td>\n",
       "      <td>387.00</td>\n",
       "      <td>1497.00</td>\n",
       "      <td>123.00</td>\n",
       "      <td>5.0</td>\n",
       "      <td>39.00</td>\n",
       "      <td>274.00</td>\n",
       "      <td>315.00</td>\n",
       "      <td>153.00</td>\n",
       "    </tr>\n",
       "  </tbody>\n",
       "</table>\n",
       "</div>"
      ],
      "text/plain": [
       "           amusement     awe  contentment  excitement  anger  disgust    fear  \\\n",
       "precision       0.09    0.17         0.56        0.04    0.0     0.02    0.13   \n",
       "recall          0.12    0.19         0.43        0.04    0.0     0.05    0.12   \n",
       "f1_score        0.10    0.18         0.49        0.04    0.0     0.03    0.13   \n",
       "support       230.00  387.00      1497.00      123.00    5.0    39.00  274.00   \n",
       "\n",
       "           sadness  something else  \n",
       "precision     0.11            0.03  \n",
       "recall        0.09            0.05  \n",
       "f1_score      0.10            0.04  \n",
       "support     315.00          153.00  "
      ]
     },
     "metadata": {},
     "output_type": "display_data"
    },
    {
     "name": "stdout",
     "output_type": "stream",
     "text": [
      "\n",
      "the recall is 0.12\n",
      "\n",
      "the f1_score is 0.12\n",
      "\n",
      "the accuracy is 0.27\n"
     ]
    },
    {
     "data": {
      "text/plain": [
       "<Figure size 432x288 with 0 Axes>"
      ]
     },
     "metadata": {},
     "output_type": "display_data"
    },
    {
     "data": {
      "image/png": "[encoded data removed]",
      "text/plain": [
       "<Figure size 907.2x907.2 with 1 Axes>"
      ]
     },
     "metadata": {
      "image/png": {
       "height": 752,
       "width": 744
      }
     },
     "output_type": "display_data"
    }
   ],
   "source": [
    "ct.create_report(clip_img, ARTEMIS_EMOTIONS, False, agreement_threshold=0.51)"
   ]
  }
 ],
 "metadata": {
  "kernelspec": {
   "display_name": "Python 3 (ipykernel)",
   "language": "python",
   "name": "python3"
  },
  "language_info": {
   "codemirror_mode": {
    "name": "ipython",
    "version": 3
   },
   "file_extension": ".py",
   "mimetype": "text/x-python",
   "name": "python",
   "nbconvert_exporter": "python",
   "pygments_lexer": "ipython3",
   "version": "3.8.2"
  }
 },
 "nbformat": 4,
 "nbformat_minor": 5
}
